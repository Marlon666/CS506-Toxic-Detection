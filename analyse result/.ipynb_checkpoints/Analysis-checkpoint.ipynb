{
 "cells": [
  {
   "cell_type": "code",
   "execution_count": 1,
   "metadata": {
    "collapsed": true
   },
   "outputs": [],
   "source": [
    "import os\n",
    "import pandas as pd\n",
    "import matplotlib.pyplot as plt\n",
    "%matplotlib inline\n",
    "%config InlineBackend.figure_format='retina'"
   ]
  },
  {
   "cell_type": "code",
   "execution_count": 2,
   "metadata": {
    "collapsed": true
   },
   "outputs": [],
   "source": [
    "def getFileName(path):\n",
    "    f_list = os.listdir(path)\n",
    "    result = []\n",
    "    for i in f_list:\n",
    "        if os.path.splitext(i)[1] == '.csv':\n",
    "            result.append(i)\n",
    "    return result"
   ]
  },
  {
   "cell_type": "code",
   "execution_count": 3,
   "metadata": {
    "collapsed": true
   },
   "outputs": [],
   "source": [
    "p_list = getFileName('politics')\n",
    "c_list = getFileName('celebrities')\n",
    "s_list = getFileName('sports')"
   ]
  },
  {
   "cell_type": "code",
   "execution_count": 4,
   "metadata": {},
   "outputs": [
    {
     "data": {
      "text/plain": [
       "14"
      ]
     },
     "execution_count": 4,
     "metadata": {},
     "output_type": "execute_result"
    }
   ],
   "source": [
    "len(p_list)"
   ]
  },
  {
   "cell_type": "code",
   "execution_count": 5,
   "metadata": {},
   "outputs": [
    {
     "data": {
      "text/plain": [
       "['lebronlanceLSTM.csv',\n",
       " 'justinbieberLSTM.csv',\n",
       " 'bradyLSTM.csv',\n",
       " 'kimxiLSTM.csv',\n",
       " 'RonaldotoMonacoLSTM.csv',\n",
       " 'ufcconorLSTM.csv',\n",
       " 'DTwinLSTM.csv',\n",
       " 'Kim-KardashianLSTM.csv',\n",
       " 'ObamabetterthanAllRepLSTM.csv']"
      ]
     },
     "execution_count": 5,
     "metadata": {},
     "output_type": "execute_result"
    }
   ],
   "source": [
    "c_list"
   ]
  },
  {
   "cell_type": "code",
   "execution_count": 6,
   "metadata": {},
   "outputs": [
    {
     "data": {
      "text/plain": [
       "['ItalyFailWCLSTM.csv',\n",
       " 'lebronlanceLSTM.csv',\n",
       " 'bradyLSTM.csv',\n",
       " 'realmadridLSTM.csv',\n",
       " 'RonaldotoMonacoLSTM.csv',\n",
       " 'ufcconorLSTM.csv',\n",
       " 'pelicanfanLSTM.csv',\n",
       " 'RomareverseBarcaLSTM.csv']"
      ]
     },
     "execution_count": 6,
     "metadata": {},
     "output_type": "execute_result"
    }
   ],
   "source": [
    "s_list"
   ]
  },
  {
   "cell_type": "code",
   "execution_count": null,
   "metadata": {
    "collapsed": true
   },
   "outputs": [],
   "source": []
  },
  {
   "cell_type": "code",
   "execution_count": null,
   "metadata": {
    "collapsed": true
   },
   "outputs": [],
   "source": []
  },
  {
   "cell_type": "code",
   "execution_count": null,
   "metadata": {
    "collapsed": true
   },
   "outputs": [],
   "source": []
  },
  {
   "cell_type": "code",
   "execution_count": 7,
   "metadata": {
    "collapsed": true
   },
   "outputs": [],
   "source": [
    "def calculate(filelist,folderpath):\n",
    "    result = []\n",
    "    for i in range(len(filelist)):\n",
    "        df = pd.read_csv(folderpath + filelist[i])\n",
    "        toxic = 0\n",
    "        clean = 0\n",
    "        total = 0\n",
    "        tmp = [0]*2\n",
    "        for row in df.itertuples():\n",
    "            if float(row[3]) >= 0.4:\n",
    "                toxic += 1\n",
    "            else:\n",
    "                clean += 1\n",
    "        total = clean + toxic\n",
    "        tmp[0] = toxic/total\n",
    "        tmp[1] = clean/total\n",
    "        result.append(tmp)\n",
    "    return result"
   ]
  },
  {
   "cell_type": "code",
   "execution_count": 8,
   "metadata": {},
   "outputs": [
    {
     "data": {
      "text/plain": [
       "[[0.15801919599387954, 0.8419808040061204],\n",
       " [0.10610104861773118, 0.8938989513822688],\n",
       " [0.19507908611599298, 0.804920913884007],\n",
       " [0.1520428667113195, 0.8479571332886805],\n",
       " [0.09935205183585313, 0.9006479481641468],\n",
       " [0.13725490196078433, 0.8627450980392157],\n",
       " [0.13366336633663367, 0.8663366336633663],\n",
       " [0.14407949213359095, 0.855920507866409],\n",
       " [0.15838303512259774, 0.8416169648774022],\n",
       " [0.09090909090909091, 0.9090909090909091],\n",
       " [0.1657955258206147, 0.8342044741793854],\n",
       " [0.11419399220362302, 0.885806007796377],\n",
       " [0.15817601930868028, 0.8418239806913197],\n",
       " [0.19808743169398907, 0.8019125683060109]]"
      ]
     },
     "execution_count": 8,
     "metadata": {},
     "output_type": "execute_result"
    }
   ],
   "source": [
    "p_result = calculate(p_list,'politics/')\n",
    "p_result"
   ]
  },
  {
   "cell_type": "code",
   "execution_count": 26,
   "metadata": {},
   "outputs": [
    {
     "data": {
      "text/plain": [
       "8"
      ]
     },
     "execution_count": 26,
     "metadata": {},
     "output_type": "execute_result"
    }
   ],
   "source": [
    "s_result = calculate(s_list,'sports/')\n",
    "len(s_result)"
   ]
  },
  {
   "cell_type": "code",
   "execution_count": 27,
   "metadata": {},
   "outputs": [
    {
     "data": {
      "text/plain": [
       "9"
      ]
     },
     "execution_count": 27,
     "metadata": {},
     "output_type": "execute_result"
    }
   ],
   "source": [
    "c_result = calculate(c_list,'celebrities/')\n",
    "len(c_result)"
   ]
  },
  {
   "cell_type": "code",
   "execution_count": 11,
   "metadata": {
    "collapsed": true
   },
   "outputs": [],
   "source": [
    "def drawPillar_politics(result):\n",
    "    n_groups = len(result)\n",
    "    toxic = []\n",
    "    clean = []\n",
    "    for i in result:\n",
    "        toxic.append(i[0])\n",
    "        clean.append(i[1])\n",
    "    fig, ax = plt.subplots()    \n",
    "    index = np.arange(n_groups)    \n",
    "    bar_width = 0.35    \n",
    "         \n",
    "    opacity = 0.4    \n",
    "    rects1 = plt.bar(index, toxic, bar_width,alpha=opacity, color='b',label='toxic')    \n",
    "    rects2 = plt.bar(index + bar_width, clean, bar_width,alpha=opacity,color='r',label='clean')    \n",
    "         \n",
    "    plt.xlabel('topic')    \n",
    "    plt.ylabel('comment percentage')    \n",
    "    plt.title('comment percentage of different topics in politics')    \n",
    "#     plt.xticks(index + bar_width, p_list)    \n",
    "    plt.ylim(0,1);    \n",
    "    plt.legend();    \n",
    "      \n",
    "    plt.tight_layout();   \n",
    "    plt.show();"
   ]
  },
  {
   "cell_type": "code",
   "execution_count": 13,
   "metadata": {},
   "outputs": [
    {
     "data": {
      "image/png": "[encoded data removed]",
      "text/plain": [
       "<matplotlib.figure.Figure at 0x1124350f0>"
      ]
     },
     "metadata": {
      "image/png": {
       "height": 279,
       "width": 422
      }
     },
     "output_type": "display_data"
    }
   ],
   "source": [
    "import numpy as np\n",
    "drawPillar_politics(p_result)"
   ]
  },
  {
   "cell_type": "code",
   "execution_count": 14,
   "metadata": {
    "collapsed": true
   },
   "outputs": [],
   "source": [
    "def drawPillar_sports(result):\n",
    "    n_groups = len(result)\n",
    "    toxic = []\n",
    "    clean = []\n",
    "    for i in result:\n",
    "        toxic.append(i[0])\n",
    "        clean.append(i[1])\n",
    "    fig, ax = plt.subplots()    \n",
    "    index = np.arange(n_groups)    \n",
    "    bar_width = 0.35    \n",
    "         \n",
    "    opacity = 0.4    \n",
    "    rects1 = plt.bar(index, toxic, bar_width,alpha=opacity, color='b',label='toxic')    \n",
    "    rects2 = plt.bar(index + bar_width, clean, bar_width,alpha=opacity,color='r',label='clean')    \n",
    "         \n",
    "    plt.xlabel('topic')    \n",
    "    plt.ylabel('comment percentage')    \n",
    "    plt.title('comment percentage of different topics in sports')    \n",
    "#     plt.xticks(index + bar_width, p_list)    \n",
    "    plt.ylim(0,1);    \n",
    "    plt.legend();    \n",
    "      \n",
    "    plt.tight_layout();   \n",
    "    plt.show();"
   ]
  },
  {
   "cell_type": "code",
   "execution_count": 15,
   "metadata": {},
   "outputs": [
    {
     "data": {
      "image/png": "[encoded data removed]",
      "text/plain": [
       "<matplotlib.figure.Figure at 0x112a17eb8>"
      ]
     },
     "metadata": {
      "image/png": {
       "height": 279,
       "width": 422
      }
     },
     "output_type": "display_data"
    }
   ],
   "source": [
    "drawPillar_sports(s_result)"
   ]
  },
  {
   "cell_type": "code",
   "execution_count": 24,
   "metadata": {
    "collapsed": true
   },
   "outputs": [],
   "source": [
    "def drawPillar_c(result):\n",
    "    n_groups = len(result)\n",
    "    toxic = []\n",
    "    clean = []\n",
    "    for i in result:\n",
    "        toxic.append(i[0])\n",
    "        clean.append(i[1])\n",
    "    fig, ax = plt.subplots()    \n",
    "    index = np.arange(n_groups)    \n",
    "    bar_width = 0.35    \n",
    "         \n",
    "    opacity = 0.4    \n",
    "    rects1 = plt.bar(index, toxic, bar_width,alpha=opacity, color='b',label=    'toxic')    \n",
    "    rects2 = plt.bar(index + bar_width, clean, bar_width,alpha=opacity,color='r',label='clean')    \n",
    "         \n",
    "    plt.xlabel('topic')    \n",
    "    plt.ylabel('comment percentage')    \n",
    "    plt.title('comment percentage of different topics in celebrities')    \n",
    "#     plt.xticks(index + bar_width, p_list)    \n",
    "    plt.ylim(0,1);    \n",
    "    plt.legend();    \n",
    "      \n",
    "    plt.tight_layout();   \n",
    "    plt.show();"
   ]
  },
  {
   "cell_type": "code",
   "execution_count": 25,
   "metadata": {},
   "outputs": [
    {
     "data": {
      "image/png": "[encoded data removed]",
      "text/plain": [
       "<matplotlib.figure.Figure at 0x1132e5550>"
      ]
     },
     "metadata": {
      "image/png": {
       "height": 279,
       "width": 422
      }
     },
     "output_type": "display_data"
    }
   ],
   "source": [
    "drawPillar_c(c_result)"
   ]
  },
  {
   "cell_type": "code",
   "execution_count": 18,
   "metadata": {
    "collapsed": true
   },
   "outputs": [],
   "source": [
    "def average_toxic(result):\n",
    "    toxic_total = 0\n",
    "    for i in range(len(result)):\n",
    "        toxic_total += result[i][0]\n",
    "    return toxic_total/len(result)"
   ]
  },
  {
   "cell_type": "code",
   "execution_count": 21,
   "metadata": {
    "collapsed": true
   },
   "outputs": [],
   "source": [
    "p_average = average_toxic(p_result)\n",
    "c_average = average_toxic(c_result)\n",
    "s_average = average_toxic(s_result)"
   ]
  },
  {
   "cell_type": "code",
   "execution_count": 20,
   "metadata": {},
   "outputs": [
    {
     "data": {
      "text/plain": [
       "0.1436526503403129"
      ]
     },
     "execution_count": 20,
     "metadata": {},
     "output_type": "execute_result"
    }
   ],
   "source": [
    "p_average"
   ]
  },
  {
   "cell_type": "code",
   "execution_count": 22,
   "metadata": {},
   "outputs": [
    {
     "data": {
      "text/plain": [
       "0.16432785262883737"
      ]
     },
     "execution_count": 22,
     "metadata": {},
     "output_type": "execute_result"
    }
   ],
   "source": [
    "c_average"
   ]
  },
  {
   "cell_type": "code",
   "execution_count": 23,
   "metadata": {},
   "outputs": [
    {
     "data": {
      "text/plain": [
       "0.15986610427409254"
      ]
     },
     "execution_count": 23,
     "metadata": {},
     "output_type": "execute_result"
    }
   ],
   "source": [
    "s_average"
   ]
  },
  {
   "cell_type": "code",
   "execution_count": null,
   "metadata": {
    "collapsed": true
   },
   "outputs": [],
   "source": []
  }
 ],
 "metadata": {
  "kernelspec": {
   "display_name": "Python 3",
   "language": "python",
   "name": "python3"
  },
  "language_info": {
   "codemirror_mode": {
    "name": "ipython",
    "version": 3
   },
   "file_extension": ".py",
   "mimetype": "text/x-python",
   "name": "python",
   "nbconvert_exporter": "python",
   "pygments_lexer": "ipython3",
   "version": "3.5.4"
  }
 },
 "nbformat": 4,
 "nbformat_minor": 2
}
