{
 "cells": [
  {
   "cell_type": "code",
   "execution_count": 2,
   "metadata": {
    "collapsed": true
   },
   "outputs": [],
   "source": [
    "import numpy as np # linear algebra\n",
    "import pandas as pd # data processing, CSV file I/O (e.g. pd.read_csv)\n",
    "from sklearn.model_selection import train_test_split\n",
    "from sklearn.naive_bayes import BernoulliNB\n",
    "from sklearn.linear_model import LogisticRegression\n",
    "from sklearn import linear_model\n",
    "from sklearn.metrics import log_loss\n",
    "\n",
    "\n",
    "#NLP tools\n",
    "import re\n",
    "import string\n",
    "import nltk\n",
    "from nltk.corpus import stopwords\n",
    "from wordcloud import WordCloud\n",
    "stopwords = nltk.corpus.stopwords.words('english')\n",
    "\n",
    "\n",
    "#Plot and image tools\n",
    "from PIL import Image\n",
    "from matplotlib import pyplot as plt\n",
    "from matplotlib import gridspec\n",
    "import seaborn as sns\n",
    "sns.set_style(\"dark\")\n",
    "\n",
    "train_data_path='./train.csv'"
   ]
  },
  {
   "cell_type": "code",
   "execution_count": 3,
   "metadata": {
    "collapsed": true
   },
   "outputs": [],
   "source": [
    "#Loading the Data\n",
    "train = pd.read_csv(train_data_path)\n",
    "test = pd.read_csv('./test.csv')"
   ]
  },
  {
   "cell_type": "code",
   "execution_count": 4,
   "metadata": {},
   "outputs": [
    {
     "data": {
      "text/html": [
       "<div>\n",
       "<style>\n",
       "    .dataframe thead tr:only-child th {\n",
       "        text-align: right;\n",
       "    }\n",
       "\n",
       "    .dataframe thead th {\n",
       "        text-align: left;\n",
       "    }\n",
       "\n",
       "    .dataframe tbody tr th {\n",
       "        vertical-align: top;\n",
       "    }\n",
       "</style>\n",
       "<table border=\"1\" class=\"dataframe\">\n",
       "  <thead>\n",
       "    <tr style=\"text-align: right;\">\n",
       "      <th></th>\n",
       "      <th>id</th>\n",
       "      <th>comment_text</th>\n",
       "      <th>toxic</th>\n",
       "      <th>severe_toxic</th>\n",
       "      <th>obscene</th>\n",
       "      <th>threat</th>\n",
       "      <th>insult</th>\n",
       "      <th>identity_hate</th>\n",
       "    </tr>\n",
       "  </thead>\n",
       "  <tbody>\n",
       "    <tr>\n",
       "      <th>0</th>\n",
       "      <td>0000997932d777bf</td>\n",
       "      <td>Explanation\\nWhy the edits made under my usern...</td>\n",
       "      <td>0</td>\n",
       "      <td>0</td>\n",
       "      <td>0</td>\n",
       "      <td>0</td>\n",
       "      <td>0</td>\n",
       "      <td>0</td>\n",
       "    </tr>\n",
       "    <tr>\n",
       "      <th>1</th>\n",
       "      <td>000103f0d9cfb60f</td>\n",
       "      <td>D'aww! He matches this background colour I'm s...</td>\n",
       "      <td>0</td>\n",
       "      <td>0</td>\n",
       "      <td>0</td>\n",
       "      <td>0</td>\n",
       "      <td>0</td>\n",
       "      <td>0</td>\n",
       "    </tr>\n",
       "    <tr>\n",
       "      <th>2</th>\n",
       "      <td>000113f07ec002fd</td>\n",
       "      <td>Hey man, I'm really not trying to edit war. It...</td>\n",
       "      <td>0</td>\n",
       "      <td>0</td>\n",
       "      <td>0</td>\n",
       "      <td>0</td>\n",
       "      <td>0</td>\n",
       "      <td>0</td>\n",
       "    </tr>\n",
       "    <tr>\n",
       "      <th>3</th>\n",
       "      <td>0001b41b1c6bb37e</td>\n",
       "      <td>\"\\nMore\\nI can't make any real suggestions on ...</td>\n",
       "      <td>0</td>\n",
       "      <td>0</td>\n",
       "      <td>0</td>\n",
       "      <td>0</td>\n",
       "      <td>0</td>\n",
       "      <td>0</td>\n",
       "    </tr>\n",
       "    <tr>\n",
       "      <th>4</th>\n",
       "      <td>0001d958c54c6e35</td>\n",
       "      <td>You, sir, are my hero. Any chance you remember...</td>\n",
       "      <td>0</td>\n",
       "      <td>0</td>\n",
       "      <td>0</td>\n",
       "      <td>0</td>\n",
       "      <td>0</td>\n",
       "      <td>0</td>\n",
       "    </tr>\n",
       "  </tbody>\n",
       "</table>\n",
       "</div>"
      ],
      "text/plain": [
       "                 id                                       comment_text  toxic  \\\n",
       "0  0000997932d777bf  Explanation\\nWhy the edits made under my usern...      0   \n",
       "1  000103f0d9cfb60f  D'aww! He matches this background colour I'm s...      0   \n",
       "2  000113f07ec002fd  Hey man, I'm really not trying to edit war. It...      0   \n",
       "3  0001b41b1c6bb37e  \"\\nMore\\nI can't make any real suggestions on ...      0   \n",
       "4  0001d958c54c6e35  You, sir, are my hero. Any chance you remember...      0   \n",
       "\n",
       "   severe_toxic  obscene  threat  insult  identity_hate  \n",
       "0             0        0       0       0              0  \n",
       "1             0        0       0       0              0  \n",
       "2             0        0       0       0              0  \n",
       "3             0        0       0       0              0  \n",
       "4             0        0       0       0              0  "
      ]
     },
     "execution_count": 4,
     "metadata": {},
     "output_type": "execute_result"
    }
   ],
   "source": [
    "train.head()"
   ]
  },
  {
   "cell_type": "code",
   "execution_count": 5,
   "metadata": {},
   "outputs": [
    {
     "data": {
      "text/plain": [
       "(159571, 8)"
      ]
     },
     "execution_count": 5,
     "metadata": {},
     "output_type": "execute_result"
    }
   ],
   "source": [
    "# check the size of comments data\n",
    "train.shape"
   ]
  },
  {
   "cell_type": "code",
   "execution_count": 6,
   "metadata": {},
   "outputs": [
    {
     "data": {
      "text/plain": [
       "143346"
      ]
     },
     "execution_count": 6,
     "metadata": {},
     "output_type": "execute_result"
    }
   ],
   "source": [
    "rowsums=train.iloc[:,2:].sum(axis=1)\n",
    "train['clean']=(rowsums==0)\n",
    "train['clean'].sum()"
   ]
  },
  {
   "cell_type": "code",
   "execution_count": 7,
   "metadata": {},
   "outputs": [
    {
     "data": {
      "image/png": "[encoded data removed]",
      "text/plain": [
       "<matplotlib.figure.Figure at 0x1a27716390>"
      ]
     },
     "metadata": {},
     "output_type": "display_data"
    }
   ],
   "source": [
    "colors_list = [\"brownish green\", \"pine green\", \"ugly purple\",\n",
    "               \"blood\", \"deep blue\", \"brown\", \"azure\"]\n",
    "\n",
    "palette= sns.xkcd_palette(colors_list)\n",
    "\n",
    "x=train.iloc[:,2:].sum()\n",
    "\n",
    "plt.figure(figsize=(9,6))\n",
    "ax= sns.barplot(x.index, x.values,palette=palette)\n",
    "plt.title(\"Class\")\n",
    "plt.ylabel('Occurrences', fontsize=12)\n",
    "plt.xlabel('Type ')\n",
    "rects = ax.patches\n",
    "labels = x.values\n",
    "for rect, label in zip(rects, labels):\n",
    "    height = rect.get_height()\n",
    "    ax.text(rect.get_x() + rect.get_width()/2, height + 10, label, \n",
    "            ha='center', va='bottom')\n",
    "\n",
    "plt.show()"
   ]
  },
  {
   "cell_type": "code",
   "execution_count": 8,
   "metadata": {
    "collapsed": true
   },
   "outputs": [],
   "source": [
    "# load the data into the list\n",
    "comment_text_list = train.apply(lambda row : nltk.word_tokenize( row['comment_text']),axis=1)"
   ]
  },
  {
   "cell_type": "code",
   "execution_count": 9,
   "metadata": {
    "collapsed": true
   },
   "outputs": [],
   "source": [
    "#An odd comment contains a high rate of punctuation symbols or capital letters\n",
    "rate_punctuation=0.7\n",
    "rate_capital=0.7\n",
    "def odd_comment(comment):\n",
    "    punctuation_count=0\n",
    "    capital_letter_count=0\n",
    "    total_letter_count=0\n",
    "    for token in comment:\n",
    "        if token in list(string.punctuation):\n",
    "            punctuation_count+=1\n",
    "        capital_letter_count+=sum(1 for c in token if c.isupper())\n",
    "        total_letter_count+=len(token)\n",
    "    return((punctuation_count/len(comment))>=rate_punctuation or \n",
    "           (capital_letter_count/total_letter_count)>rate_capital)\n",
    "\n",
    "odd=comment_text_list.apply(odd_comment)"
   ]
  },
  {
   "cell_type": "code",
   "execution_count": 10,
   "metadata": {},
   "outputs": [
    {
     "data": {
      "text/plain": [
       "id               0.654298\n",
       "comment_text     0.654298\n",
       "toxic            0.654298\n",
       "severe_toxic     0.654298\n",
       "obscene          0.654298\n",
       "threat           0.654298\n",
       "insult           0.654298\n",
       "identity_hate    0.654298\n",
       "clean            0.654298\n",
       "dtype: float64"
      ]
     },
     "execution_count": 10,
     "metadata": {},
     "output_type": "execute_result"
    }
   ],
   "source": [
    "odd_ones=odd[odd==True]\n",
    "#list(ponctuation_polluted.index)\n",
    "odd_comments=train.loc[list(odd_ones.index)]\n",
    "odd_comments[odd_comments.clean==False].count()/len(odd_comments)"
   ]
  },
  {
   "cell_type": "code",
   "execution_count": 11,
   "metadata": {},
   "outputs": [
    {
     "data": {
      "image/png": "[encoded data removed]",
      "text/plain": [
       "<matplotlib.figure.Figure at 0x1a53978320>"
      ]
     },
     "metadata": {},
     "output_type": "display_data"
    }
   ],
   "source": [
    "colors_list = [\"brownish green\", \"pine green\", \"ugly purple\",\n",
    "               \"blood\", \"deep blue\", \"brown\", \"azure\"]\n",
    "\n",
    "palette= sns.xkcd_palette(colors_list)\n",
    "\n",
    "x=odd_comments.iloc[:,2:].sum()\n",
    "\n",
    "\n",
    "plt.figure(figsize=(9,6))\n",
    "ax= sns.barplot(x.index, x.values, alpha=0.8, palette=palette)\n",
    "plt.title(\"# per class\")\n",
    "plt.ylabel('# of Occurrences', fontsize=12)\n",
    "plt.xlabel('Type ', fontsize=12)\n",
    "\n",
    "rects = ax.patches\n",
    "labels = x.values\n",
    "for rect, label in zip(rects, labels):\n",
    "    height = rect.get_height()\n",
    "    ax.text(rect.get_x() + rect.get_width()/2, height + 5, label, ha='center', va='bottom')\n",
    "\n",
    "plt.show()"
   ]
  },
  {
   "cell_type": "code",
   "execution_count": 12,
   "metadata": {},
   "outputs": [
    {
     "data": {
      "text/html": [
       "<div>\n",
       "<style>\n",
       "    .dataframe thead tr:only-child th {\n",
       "        text-align: right;\n",
       "    }\n",
       "\n",
       "    .dataframe thead th {\n",
       "        text-align: left;\n",
       "    }\n",
       "\n",
       "    .dataframe tbody tr th {\n",
       "        vertical-align: top;\n",
       "    }\n",
       "</style>\n",
       "<table border=\"1\" class=\"dataframe\">\n",
       "  <thead>\n",
       "    <tr style=\"text-align: right;\">\n",
       "      <th></th>\n",
       "      <th>id</th>\n",
       "      <th>comment_text</th>\n",
       "      <th>toxic</th>\n",
       "      <th>severe_toxic</th>\n",
       "      <th>obscene</th>\n",
       "      <th>threat</th>\n",
       "      <th>insult</th>\n",
       "      <th>identity_hate</th>\n",
       "      <th>clean</th>\n",
       "    </tr>\n",
       "  </thead>\n",
       "  <tbody>\n",
       "  </tbody>\n",
       "</table>\n",
       "</div>"
      ],
      "text/plain": [
       "Empty DataFrame\n",
       "Columns: [id, comment_text, toxic, severe_toxic, obscene, threat, insult, identity_hate, clean]\n",
       "Index: []"
      ]
     },
     "execution_count": 12,
     "metadata": {},
     "output_type": "execute_result"
    }
   ],
   "source": [
    "# quick check for empty comments\n",
    "empty_com=train[train.comment_text==\"\"]\n",
    "empty_com"
   ]
  },
  {
   "cell_type": "code",
   "execution_count": 13,
   "metadata": {},
   "outputs": [
    {
     "data": {
      "text/plain": [
       "Series([], Name: comment_text, dtype: bool)"
      ]
     },
     "execution_count": 13,
     "metadata": {},
     "output_type": "execute_result"
    }
   ],
   "source": [
    "#quick check for duplicated comments\n",
    "duplicate=train.comment_text.duplicated()\n",
    "duplicate[duplicate==True]"
   ]
  },
  {
   "cell_type": "code",
   "execution_count": 14,
   "metadata": {
    "collapsed": true
   },
   "outputs": [],
   "source": [
    "#Just storing each categories of non clean comments in specific arrays\n",
    "toxic=train[train.toxic==1]['comment_text'].values\n",
    "severe_toxic=train[train.severe_toxic==1]['comment_text'].values\n",
    "obscene=train[train.obscene==1]['comment_text'].values\n",
    "threat=train[train.threat==1]['comment_text'].values\n",
    "insult=train[train.insult==1]['comment_text'].values\n",
    "identity_hate=train[train.identity_hate==1]['comment_text'].values"
   ]
  },
  {
   "cell_type": "code",
   "execution_count": 19,
   "metadata": {},
   "outputs": [],
   "source": [
    "from nltk.stem import WordNetLemmatizer\n",
    "from nltk.tokenize import TweetTokenizer\n",
    "\n",
    "replacement_patterns = [\n",
    " (r'won\\'t', 'will not'),\n",
    " (r'can\\'t', 'cannot'),\n",
    " (r'i\\'m', 'i am'),\n",
    " (r'ain\\'t', 'is not'),\n",
    " (r'(\\w+)\\'ll', '\\g<1> will'),\n",
    " (r'(\\w+)n\\'t', '\\g<1> not'),\n",
    " (r'(\\w+)\\'ve', '\\g<1> have'),\n",
    " (r'(\\w+)\\'s', '\\g<1> is'),\n",
    " (r'(\\w+)\\'re', '\\g<1> are'),\n",
    " (r'(\\w+)\\'d', '\\g<1> would')\n",
    "]\n",
    "\n",
    "class RegexpReplacer(object):\n",
    "    def __init__(self, patterns=replacement_patterns):\n",
    "         self.patterns = [(re.compile(regex), repl) for (regex, repl) in\n",
    "         patterns]\n",
    "     \n",
    "    def replace(self, text):\n",
    "        s = text\n",
    "        for (pattern, repl) in self.patterns:\n",
    "             s = re.sub(pattern, repl, s)\n",
    "        return s\n",
    "    \n",
    "lemmer = WordNetLemmatizer()\n",
    "stopwords = nltk.corpus.stopwords.words('english')\n",
    "replacer = RegexpReplacer()\n",
    "tokenizer=TweetTokenizer()\n",
    "\n",
    "\n",
    "def comment_process(comment):\n",
    "        comment=tokenizer.tokenize(replacer.replace(comment))\n",
    "        comment= [word for word in comment if ( word.lower() not in stopwords \n",
    "                              and word.lower() not in list(string.punctuation) )]\n",
    "        comment=[lemmer.lemmatize(word, 'v') for word in comment]\n",
    "        comment.extend(list(comment))\n",
    "        comment=\" \".join(comment)\n",
    "        return comment\n",
    "    \n",
    "\n",
    "cleaned_train=train.comment_text.apply(comment_process)"
   ]
  },
  {
   "cell_type": "code",
   "execution_count": 21,
   "metadata": {},
   "outputs": [],
   "source": [
    "from sklearn.feature_extraction.text import TfidfVectorizer\n",
    "tf = TfidfVectorizer( strip_accents='unicode',analyzer='word', max_features= 50000, ngram_range=(4,4),\n",
    "            use_idf=True,smooth_idf=True,sublinear_tf=True,\n",
    "            stop_words = 'english')\n",
    "cols=['toxic', 'severe_toxic', 'obscene', 'threat', 'insult', 'identity_hate']\n",
    "y=train[cols]\n",
    "\n",
    "xtrain, xvalid, ytrain, yvalid = train_test_split(cleaned_train, y, \n",
    "                                                  random_state=42, \n",
    "                                                  test_size=0.3, shuffle=True)\n",
    "\n",
    "xtraintf=tf.fit_transform(xtrain)\n",
    "xvalidtf=tf.fit_transform(xvalid)"
   ]
  },
  {
   "cell_type": "markdown",
   "metadata": {},
   "source": [
    "We first like to try two methods of trianing our data, Bayes algorithm and logistic regression"
   ]
  },
  {
   "cell_type": "code",
   "execution_count": 22,
   "metadata": {},
   "outputs": [
    {
     "name": "stdout",
     "output_type": "stream",
     "text": [
      "Building 0 model for column:toxic\n",
      "Trainloss=log loss: 0.29653937488\n",
      "Validloss=log loss: 0.316020605404\n",
      "Building 1 model for column:severe_toxic\n",
      "Trainloss=log loss: 0.0524616366092\n",
      "Validloss=log loss: 0.0567220079449\n",
      "Building 2 model for column:obscene\n",
      "Trainloss=log loss: 0.194927549132\n",
      "Validloss=log loss: 0.208503788489\n",
      "Building 3 model for column:threat\n",
      "Trainloss=log loss: 0.0199885744777\n",
      "Validloss=log loss: 0.019512216418\n",
      "Building 4 model for column:insult\n",
      "Trainloss=log loss: 0.185668421136\n",
      "Validloss=log loss: 0.198275156651\n",
      "Building 5 model for column:identity_hate\n",
      "Trainloss=log loss: 0.0479511330914\n",
      "Validloss=log loss: 0.0514615020105\n",
      "mean column-wise log loss:Train dataset 0.132922781554\n",
      "mean column-wise log loss:Validation dataset 0.141749212819\n"
     ]
    }
   ],
   "source": [
    "#Second let's try logigstic regression\n",
    "prd_valid = np.zeros((xvalidtf.shape[0],yvalid.shape[1]))\n",
    "prd_train = np.zeros((xtraintf.shape[0],ytrain.shape[1]))\n",
    "train_loss = []\n",
    "valid_loss = []\n",
    "bnb = LogisticRegression(penalty='l2')\n",
    "for i,col in enumerate(cols):\n",
    "    print('Building {} model for column:{''}'.format(i,col)) \n",
    "    bnb.fit(xtraintf,ytrain[col])\n",
    "    prd_valid[:,i] = bnb.predict_proba(xvalidtf)[:,1]\n",
    "    prd_train[:,i] = bnb.predict_proba(xtraintf)[:,1]\n",
    "    train_loss_class=log_loss(ytrain[col],prd_train[:,i])\n",
    "    valid_loss_class=log_loss(yvalid[col],prd_valid[:,i])\n",
    "    print('Trainloss=log loss:', train_loss_class)\n",
    "    print('Validloss=log loss:', valid_loss_class)\n",
    "    train_loss.append(train_loss_class)\n",
    "    valid_loss.append(valid_loss_class)\n",
    "print('mean column-wise log loss:Train dataset', np.mean(train_loss))\n",
    "print('mean column-wise log loss:Validation dataset', np.mean(valid_loss))\n"
   ]
  },
  {
   "cell_type": "code",
   "execution_count": 23,
   "metadata": {},
   "outputs": [
    {
     "name": "stdout",
     "output_type": "stream",
     "text": [
      "Building 0 model for column:toxic\n",
      "Trainloss=log loss: 0.705256569317\n",
      "Validloss=log loss: 1.74843989146\n",
      "Building 1 model for column:severe_toxic\n",
      "Trainloss=log loss: 0.853655407494\n",
      "Validloss=log loss: 1.54297710214\n",
      "Building 2 model for column:obscene\n",
      "Trainloss=log loss: 0.881347879482\n",
      "Validloss=log loss: 1.903090308\n",
      "Building 3 model for column:threat\n",
      "Trainloss=log loss: 0.45612641611\n",
      "Validloss=log loss: 0.90548567975\n",
      "Building 4 model for column:insult\n",
      "Trainloss=log loss: 0.899059058627\n",
      "Validloss=log loss: 1.90345054862\n",
      "Building 5 model for column:identity_hate\n",
      "Trainloss=log loss: 0.815565155579\n",
      "Validloss=log loss: 1.46042393737\n",
      "mean column-wise log loss:Train dataset 0.768501747768\n",
      "mean column-wise log loss:Validation dataset 1.57731124456\n"
     ]
    }
   ],
   "source": [
    "# first let's try Bayes algorithm\n",
    "prd_valid = np.zeros((xvalidtf.shape[0],yvalid.shape[1]))\n",
    "prd_train = np.zeros((xtraintf.shape[0],ytrain.shape[1]))\n",
    "train_loss = []\n",
    "valid_loss = []\n",
    "bnb = BernoulliNB()\n",
    "for i,col in enumerate(cols):\n",
    "    print('Building {} model for column:{''}'.format(i,col)) \n",
    "    bnb.fit(xtraintf,ytrain[col])\n",
    "    prd_valid[:,i] = bnb.predict_proba(xvalidtf)[:,1]\n",
    "    prd_train[:,i] = bnb.predict_proba(xtraintf)[:,1]\n",
    "    train_loss_class=log_loss(ytrain[col],prd_train[:,i])\n",
    "    valid_loss_class=log_loss(yvalid[col],prd_valid[:,i])\n",
    "    print('Trainloss=log loss:', train_loss_class)\n",
    "    print('Validloss=log loss:', valid_loss_class)\n",
    "    train_loss.append(train_loss_class)\n",
    "    valid_loss.append(valid_loss_class)\n",
    "print('mean column-wise log loss:Train dataset', np.mean(train_loss))\n",
    "print('mean column-wise log loss:Validation dataset', np.mean(valid_loss))"
   ]
  }
 ],
 "metadata": {
  "kernelspec": {
   "display_name": "Python 3",
   "language": "python",
   "name": "python3"
  },
  "language_info": {
   "codemirror_mode": {
    "name": "ipython",
    "version": 3
   },
   "file_extension": ".py",
   "mimetype": "text/x-python",
   "name": "python",
   "nbconvert_exporter": "python",
   "pygments_lexer": "ipython3",
   "version": "3.5.4"
  }
 },
 "nbformat": 4,
 "nbformat_minor": 2
}
