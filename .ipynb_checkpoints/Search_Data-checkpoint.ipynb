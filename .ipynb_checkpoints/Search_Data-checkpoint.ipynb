{
 "cells": [
  {
   "cell_type": "code",
   "execution_count": 1,
   "metadata": {
    "collapsed": true
   },
   "outputs": [],
   "source": [
    "#import required packages\n",
    "#basics\n",
    "import pandas as pd \n",
    "import numpy as np\n",
    "\n",
    "#misc\n",
    "import gc\n",
    "import time\n",
    "import warnings\n",
    "\n",
    "#stats\n",
    "from scipy.misc import imread\n",
    "from scipy import sparse\n",
    "import scipy.stats as ss\n",
    "\n",
    "#viz\n",
    "import matplotlib.pyplot as plt\n",
    "import matplotlib.gridspec as gridspec \n",
    "import seaborn as sns\n",
    "from wordcloud import WordCloud ,STOPWORDS\n",
    "from PIL import Image\n",
    "import matplotlib_venn as venn\n",
    "\n",
    "#nlp\n",
    "import string\n",
    "import re    #for regex\n",
    "import nltk\n",
    "from nltk.corpus import stopwords\n",
    "import spacy\n",
    "from nltk import pos_tag\n",
    "from nltk.stem.wordnet import WordNetLemmatizer \n",
    "from nltk.tokenize import word_tokenize\n",
    "# Tweet tokenizer does not split at apostophes which is what we want\n",
    "from nltk.tokenize import TweetTokenizer   \n",
    "\n",
    "\n",
    "#FeatureEngineering\n",
    "from sklearn.feature_extraction.text import TfidfVectorizer, CountVectorizer, HashingVectorizer\n",
    "from sklearn.decomposition import TruncatedSVD\n",
    "from sklearn.base import BaseEstimator, ClassifierMixin\n",
    "from sklearn.utils.validation import check_X_y, check_is_fitted\n",
    "from sklearn.linear_model import LogisticRegression\n",
    "from sklearn import metrics\n",
    "from sklearn.metrics import log_loss\n",
    "from sklearn.model_selection import StratifiedKFold\n",
    "from sklearn.model_selection import train_test_split\n",
    "\n",
    "\n",
    "\n",
    "\n",
    "\n",
    "#settings\n",
    "start_time=time.time()\n",
    "color = sns.color_palette()\n",
    "sns.set_style(\"dark\")\n",
    "eng_stopwords = set(stopwords.words(\"english\"))\n",
    "warnings.filterwarnings(\"ignore\")\n",
    "\n",
    "lem = WordNetLemmatizer()\n",
    "tokenizer=TweetTokenizer()\n",
    "\n",
    "%matplotlib inline"
   ]
  },
  {
   "cell_type": "code",
   "execution_count": 2,
   "metadata": {
    "collapsed": true
   },
   "outputs": [],
   "source": [
    "train = pd.read_csv('./train.csv')\n",
    "test = pd.read_csv('./test.csv', error_bad_lines=False)"
   ]
  },
  {
   "cell_type": "code",
   "execution_count": 3,
   "metadata": {},
   "outputs": [
    {
     "data": {
      "text/html": [
       "<div>\n",
       "<style>\n",
       "    .dataframe thead tr:only-child th {\n",
       "        text-align: right;\n",
       "    }\n",
       "\n",
       "    .dataframe thead th {\n",
       "        text-align: left;\n",
       "    }\n",
       "\n",
       "    .dataframe tbody tr th {\n",
       "        vertical-align: top;\n",
       "    }\n",
       "</style>\n",
       "<table border=\"1\" class=\"dataframe\">\n",
       "  <thead>\n",
       "    <tr style=\"text-align: right;\">\n",
       "      <th></th>\n",
       "      <th>id</th>\n",
       "      <th>comment_text</th>\n",
       "      <th>toxic</th>\n",
       "      <th>severe_toxic</th>\n",
       "      <th>obscene</th>\n",
       "      <th>threat</th>\n",
       "      <th>insult</th>\n",
       "      <th>identity_hate</th>\n",
       "    </tr>\n",
       "  </thead>\n",
       "  <tbody>\n",
       "    <tr>\n",
       "      <th>159561</th>\n",
       "      <td>ffd2e85b07b3c7e4</td>\n",
       "      <td>\"\\nNo he did not, read it again (I would have ...</td>\n",
       "      <td>0</td>\n",
       "      <td>0</td>\n",
       "      <td>0</td>\n",
       "      <td>0</td>\n",
       "      <td>0</td>\n",
       "      <td>0</td>\n",
       "    </tr>\n",
       "    <tr>\n",
       "      <th>159562</th>\n",
       "      <td>ffd72e9766c09c97</td>\n",
       "      <td>\"\\n Auto guides and the motoring press are not...</td>\n",
       "      <td>0</td>\n",
       "      <td>0</td>\n",
       "      <td>0</td>\n",
       "      <td>0</td>\n",
       "      <td>0</td>\n",
       "      <td>0</td>\n",
       "    </tr>\n",
       "    <tr>\n",
       "      <th>159563</th>\n",
       "      <td>ffe029a7c79dc7fe</td>\n",
       "      <td>\"\\nplease identify what part of BLP applies be...</td>\n",
       "      <td>0</td>\n",
       "      <td>0</td>\n",
       "      <td>0</td>\n",
       "      <td>0</td>\n",
       "      <td>0</td>\n",
       "      <td>0</td>\n",
       "    </tr>\n",
       "    <tr>\n",
       "      <th>159564</th>\n",
       "      <td>ffe897e7f7182c90</td>\n",
       "      <td>Catalan independentism is the social movement ...</td>\n",
       "      <td>0</td>\n",
       "      <td>0</td>\n",
       "      <td>0</td>\n",
       "      <td>0</td>\n",
       "      <td>0</td>\n",
       "      <td>0</td>\n",
       "    </tr>\n",
       "    <tr>\n",
       "      <th>159565</th>\n",
       "      <td>ffe8b9316245be30</td>\n",
       "      <td>The numbers in parentheses are the additional ...</td>\n",
       "      <td>0</td>\n",
       "      <td>0</td>\n",
       "      <td>0</td>\n",
       "      <td>0</td>\n",
       "      <td>0</td>\n",
       "      <td>0</td>\n",
       "    </tr>\n",
       "    <tr>\n",
       "      <th>159566</th>\n",
       "      <td>ffe987279560d7ff</td>\n",
       "      <td>\":::::And for the second time of asking, when ...</td>\n",
       "      <td>0</td>\n",
       "      <td>0</td>\n",
       "      <td>0</td>\n",
       "      <td>0</td>\n",
       "      <td>0</td>\n",
       "      <td>0</td>\n",
       "    </tr>\n",
       "    <tr>\n",
       "      <th>159567</th>\n",
       "      <td>ffea4adeee384e90</td>\n",
       "      <td>You should be ashamed of yourself \\n\\nThat is ...</td>\n",
       "      <td>0</td>\n",
       "      <td>0</td>\n",
       "      <td>0</td>\n",
       "      <td>0</td>\n",
       "      <td>0</td>\n",
       "      <td>0</td>\n",
       "    </tr>\n",
       "    <tr>\n",
       "      <th>159568</th>\n",
       "      <td>ffee36eab5c267c9</td>\n",
       "      <td>Spitzer \\n\\nUmm, theres no actual article for ...</td>\n",
       "      <td>0</td>\n",
       "      <td>0</td>\n",
       "      <td>0</td>\n",
       "      <td>0</td>\n",
       "      <td>0</td>\n",
       "      <td>0</td>\n",
       "    </tr>\n",
       "    <tr>\n",
       "      <th>159569</th>\n",
       "      <td>fff125370e4aaaf3</td>\n",
       "      <td>And it looks like it was actually you who put ...</td>\n",
       "      <td>0</td>\n",
       "      <td>0</td>\n",
       "      <td>0</td>\n",
       "      <td>0</td>\n",
       "      <td>0</td>\n",
       "      <td>0</td>\n",
       "    </tr>\n",
       "    <tr>\n",
       "      <th>159570</th>\n",
       "      <td>fff46fc426af1f9a</td>\n",
       "      <td>\"\\nAnd ... I really don't think you understand...</td>\n",
       "      <td>0</td>\n",
       "      <td>0</td>\n",
       "      <td>0</td>\n",
       "      <td>0</td>\n",
       "      <td>0</td>\n",
       "      <td>0</td>\n",
       "    </tr>\n",
       "  </tbody>\n",
       "</table>\n",
       "</div>"
      ],
      "text/plain": [
       "                      id                                       comment_text  \\\n",
       "159561  ffd2e85b07b3c7e4  \"\\nNo he did not, read it again (I would have ...   \n",
       "159562  ffd72e9766c09c97  \"\\n Auto guides and the motoring press are not...   \n",
       "159563  ffe029a7c79dc7fe  \"\\nplease identify what part of BLP applies be...   \n",
       "159564  ffe897e7f7182c90  Catalan independentism is the social movement ...   \n",
       "159565  ffe8b9316245be30  The numbers in parentheses are the additional ...   \n",
       "159566  ffe987279560d7ff  \":::::And for the second time of asking, when ...   \n",
       "159567  ffea4adeee384e90  You should be ashamed of yourself \\n\\nThat is ...   \n",
       "159568  ffee36eab5c267c9  Spitzer \\n\\nUmm, theres no actual article for ...   \n",
       "159569  fff125370e4aaaf3  And it looks like it was actually you who put ...   \n",
       "159570  fff46fc426af1f9a  \"\\nAnd ... I really don't think you understand...   \n",
       "\n",
       "        toxic  severe_toxic  obscene  threat  insult  identity_hate  \n",
       "159561      0             0        0       0       0              0  \n",
       "159562      0             0        0       0       0              0  \n",
       "159563      0             0        0       0       0              0  \n",
       "159564      0             0        0       0       0              0  \n",
       "159565      0             0        0       0       0              0  \n",
       "159566      0             0        0       0       0              0  \n",
       "159567      0             0        0       0       0              0  \n",
       "159568      0             0        0       0       0              0  \n",
       "159569      0             0        0       0       0              0  \n",
       "159570      0             0        0       0       0              0  "
      ]
     },
     "execution_count": 3,
     "metadata": {},
     "output_type": "execute_result"
    }
   ],
   "source": [
    "train.tail(10)"
   ]
  },
  {
   "cell_type": "code",
   "execution_count": 4,
   "metadata": {},
   "outputs": [
    {
     "name": "stdout",
     "output_type": "stream",
     "text": [
      "       : train : test\n",
      "rows   : 159571 : 153164\n",
      "perc   : 51    : 49\n"
     ]
    }
   ],
   "source": [
    "nrow_train=train.shape[0]\n",
    "nrow_test=test.shape[0]\n",
    "sum=nrow_train+nrow_test\n",
    "print(\"       : train : test\")\n",
    "print(\"rows   :\",nrow_train,\":\",nrow_test)\n",
    "print(\"perc   :\",round(nrow_train*100/sum),\"   :\",round(nrow_test*100/sum))"
   ]
  },
  {
   "cell_type": "code",
   "execution_count": 5,
   "metadata": {},
   "outputs": [
    {
     "name": "stdout",
     "output_type": "stream",
     "text": [
      "Total comments =  159571\n",
      "Total clean comments =  143346\n",
      "Total tags = 35098\n"
     ]
    }
   ],
   "source": [
    "x=train.iloc[:,2:].sum()\n",
    "#marking comments without any tags as \"clean\"\n",
    "rowsums=train.iloc[:,2:].sum(axis=1)\n",
    "train['clean']=(rowsums==0)\n",
    "#count number of clean entries\n",
    "train['clean'].sum()\n",
    "print(\"Total comments = \",len(train))\n",
    "print(\"Total clean comments = \",train['clean'].sum())\n",
    "print(\"Total tags =\",x.sum())"
   ]
  },
  {
   "cell_type": "code",
   "execution_count": 6,
   "metadata": {},
   "outputs": [
    {
     "name": "stdout",
     "output_type": "stream",
     "text": [
      "Check for missing values in Train dataset\n",
      "id               0\n",
      "comment_text     0\n",
      "toxic            0\n",
      "severe_toxic     0\n",
      "obscene          0\n",
      "threat           0\n",
      "insult           0\n",
      "identity_hate    0\n",
      "clean            0\n",
      "dtype: int64\n",
      "Check for missing values in Test dataset\n",
      "id              0\n",
      "comment_text    0\n",
      "dtype: int64\n",
      "filling NA with \"unknown\"\n"
     ]
    }
   ],
   "source": [
    "print(\"Check for missing values in Train dataset\")\n",
    "null_check=train.isnull().sum()\n",
    "print(null_check)\n",
    "print(\"Check for missing values in Test dataset\")\n",
    "null_check=test.isnull().sum()\n",
    "print(null_check)\n",
    "print(\"filling NA with \\\"unknown\\\"\")\n",
    "train[\"comment_text\"].fillna(\"unknown\", inplace=True)\n",
    "test[\"comment_text\"].fillna(\"unknown\", inplace=True)"
   ]
  },
  {
   "cell_type": "code",
   "execution_count": 7,
   "metadata": {},
   "outputs": [
    {
     "data": {
      "image/png": "[encoded data removed]",
      "text/plain": [
       "<matplotlib.figure.Figure at 0x1a17a02940>"
      ]
     },
     "metadata": {},
     "output_type": "display_data"
    }
   ],
   "source": [
    "x=train.iloc[:,2:].sum()\n",
    "#plot\n",
    "plt.figure(figsize=(8,4))\n",
    "ax= sns.barplot(x.index, x.values, alpha=0.8)\n",
    "plt.title(\"# per class\")\n",
    "plt.ylabel('# of Occurrences', fontsize=12)\n",
    "plt.xlabel('Type ', fontsize=12)\n",
    "#adding the text labels\n",
    "rects = ax.patches\n",
    "labels = x.values\n",
    "for rect, label in zip(rects, labels):\n",
    "    height = rect.get_height()\n",
    "    ax.text(rect.get_x() + rect.get_width()/2, height + 5, label, ha='center', va='bottom')\n",
    "\n",
    "plt.show()"
   ]
  },
  {
   "cell_type": "code",
   "execution_count": 8,
   "metadata": {},
   "outputs": [
    {
     "data": {
      "image/png": "[encoded data removed]",
      "text/plain": [
       "<matplotlib.figure.Figure at 0x1a22a79208>"
      ]
     },
     "metadata": {},
     "output_type": "display_data"
    }
   ],
   "source": [
    "x=rowsums.value_counts()\n",
    "\n",
    "#plot\n",
    "plt.figure(figsize=(8,4))\n",
    "ax = sns.barplot(x.index, x.values, alpha=0.8,color=color[2])\n",
    "plt.title(\"Multiple tags per comment\")\n",
    "plt.ylabel('# of Occurrences', fontsize=12)\n",
    "plt.xlabel('# of tags ', fontsize=12)\n",
    "\n",
    "#adding the text labels\n",
    "rects = ax.patches\n",
    "labels = x.values\n",
    "for rect, label in zip(rects, labels):\n",
    "    height = rect.get_height()\n",
    "    ax.text(rect.get_x() + rect.get_width()/2, height + 5, label, ha='center', va='bottom')\n",
    "\n",
    "plt.show()"
   ]
  },
  {
   "cell_type": "code",
   "execution_count": 9,
   "metadata": {},
   "outputs": [
    {
     "data": {
      "text/plain": [
       "<matplotlib.axes._subplots.AxesSubplot at 0x1123f4080>"
      ]
     },
     "execution_count": 9,
     "metadata": {},
     "output_type": "execute_result"
    },
    {
     "data": {
      "image/png": "[encoded data removed]",
      "text/plain": [
       "<matplotlib.figure.Figure at 0x11232ee48>"
      ]
     },
     "metadata": {},
     "output_type": "display_data"
    }
   ],
   "source": [
    "temp_df=train.iloc[:,2:-1]\n",
    "# filter temp by removing clean comments\n",
    "# temp_df=temp_df[~train.clean]\n",
    "\n",
    "corr=temp_df.corr()\n",
    "plt.figure(figsize=(10,8))\n",
    "sns.heatmap(corr,\n",
    "            xticklabels=corr.columns.values,\n",
    "            yticklabels=corr.columns.values, annot=True)"
   ]
  },
  {
   "cell_type": "code",
   "execution_count": 18,
   "metadata": {
    "collapsed": true
   },
   "outputs": [],
   "source": [
    "# https://pandas.pydata.org/pandas-docs/stable/style.html\n",
    "def highlight_min(data, color='yellow'):\n",
    "    '''\n",
    "    highlight the maximum in a Series or DataFrame\n",
    "    '''\n",
    "    attr = 'background-color: {}'.format(color)\n",
    "    if data.ndim == 1:  # Series from .apply(axis=0) or axis=1\n",
    "        is_min = data == data.min()\n",
    "        return [attr if v else '' for v in is_min]\n",
    "    else:  # from .apply(axis=None)\n",
    "        is_max = data == data.min().min()\n",
    "        return pd.DataFrame(np.where(is_min, attr, ''),\n",
    "                            index=data.index, columns=data.columns)"
   ]
  },
  {
   "cell_type": "code",
   "execution_count": 19,
   "metadata": {},
   "outputs": [
    {
     "data": {
      "text/html": [
       "<style  type=\"text/css\" >\n",
       "    #T_86c51fd8_3e98_11e8_bbbb_720001e2c210row0_col1 {\n",
       "            background-color:  yellow;\n",
       "        }    #T_86c51fd8_3e98_11e8_bbbb_720001e2c210row0_col3 {\n",
       "            background-color:  yellow;\n",
       "        }    #T_86c51fd8_3e98_11e8_bbbb_720001e2c210row0_col5 {\n",
       "            background-color:  yellow;\n",
       "        }    #T_86c51fd8_3e98_11e8_bbbb_720001e2c210row0_col7 {\n",
       "            background-color:  yellow;\n",
       "        }    #T_86c51fd8_3e98_11e8_bbbb_720001e2c210row0_col9 {\n",
       "            background-color:  yellow;\n",
       "        }    #T_86c51fd8_3e98_11e8_bbbb_720001e2c210row1_col0 {\n",
       "            background-color:  yellow;\n",
       "        }    #T_86c51fd8_3e98_11e8_bbbb_720001e2c210row1_col2 {\n",
       "            background-color:  yellow;\n",
       "        }    #T_86c51fd8_3e98_11e8_bbbb_720001e2c210row1_col4 {\n",
       "            background-color:  yellow;\n",
       "        }    #T_86c51fd8_3e98_11e8_bbbb_720001e2c210row1_col6 {\n",
       "            background-color:  yellow;\n",
       "        }    #T_86c51fd8_3e98_11e8_bbbb_720001e2c210row1_col8 {\n",
       "            background-color:  yellow;\n",
       "        }</style>  \n",
       "<table id=\"T_86c51fd8_3e98_11e8_bbbb_720001e2c210\" > \n",
       "<thead>    <tr> \n",
       "        <th class=\"blank level0\" ></th> \n",
       "        <th class=\"col_heading level0 col0\" colspan=2>severe_toxic</th> \n",
       "        <th class=\"col_heading level0 col2\" colspan=2>obscene</th> \n",
       "        <th class=\"col_heading level0 col4\" colspan=2>threat</th> \n",
       "        <th class=\"col_heading level0 col6\" colspan=2>insult</th> \n",
       "        <th class=\"col_heading level0 col8\" colspan=2>identity_hate</th> \n",
       "    </tr>    <tr> \n",
       "        <th class=\"index_name level1\" >severe_toxic</th> \n",
       "        <th class=\"col_heading level1 col0\" >0</th> \n",
       "        <th class=\"col_heading level1 col1\" >1</th> \n",
       "        <th class=\"col_heading level1 col2\" >0</th> \n",
       "        <th class=\"col_heading level1 col3\" >1</th> \n",
       "        <th class=\"col_heading level1 col4\" >0</th> \n",
       "        <th class=\"col_heading level1 col5\" >1</th> \n",
       "        <th class=\"col_heading level1 col6\" >0</th> \n",
       "        <th class=\"col_heading level1 col7\" >1</th> \n",
       "        <th class=\"col_heading level1 col8\" >0</th> \n",
       "        <th class=\"col_heading level1 col9\" >1</th> \n",
       "    </tr>    <tr> \n",
       "        <th class=\"index_name level0\" >toxic</th> \n",
       "        <th class=\"blank\" ></th> \n",
       "        <th class=\"blank\" ></th> \n",
       "        <th class=\"blank\" ></th> \n",
       "        <th class=\"blank\" ></th> \n",
       "        <th class=\"blank\" ></th> \n",
       "        <th class=\"blank\" ></th> \n",
       "        <th class=\"blank\" ></th> \n",
       "        <th class=\"blank\" ></th> \n",
       "        <th class=\"blank\" ></th> \n",
       "        <th class=\"blank\" ></th> \n",
       "    </tr></thead> \n",
       "<tbody>    <tr> \n",
       "        <th id=\"T_86c51fd8_3e98_11e8_bbbb_720001e2c210level0_row0\" class=\"row_heading level0 row0\" >0</th> \n",
       "        <td id=\"T_86c51fd8_3e98_11e8_bbbb_720001e2c210row0_col0\" class=\"data row0 col0\" >144277</td> \n",
       "        <td id=\"T_86c51fd8_3e98_11e8_bbbb_720001e2c210row0_col1\" class=\"data row0 col1\" >0</td> \n",
       "        <td id=\"T_86c51fd8_3e98_11e8_bbbb_720001e2c210row0_col2\" class=\"data row0 col2\" >143754</td> \n",
       "        <td id=\"T_86c51fd8_3e98_11e8_bbbb_720001e2c210row0_col3\" class=\"data row0 col3\" >523</td> \n",
       "        <td id=\"T_86c51fd8_3e98_11e8_bbbb_720001e2c210row0_col4\" class=\"data row0 col4\" >144248</td> \n",
       "        <td id=\"T_86c51fd8_3e98_11e8_bbbb_720001e2c210row0_col5\" class=\"data row0 col5\" >29</td> \n",
       "        <td id=\"T_86c51fd8_3e98_11e8_bbbb_720001e2c210row0_col6\" class=\"data row0 col6\" >143744</td> \n",
       "        <td id=\"T_86c51fd8_3e98_11e8_bbbb_720001e2c210row0_col7\" class=\"data row0 col7\" >533</td> \n",
       "        <td id=\"T_86c51fd8_3e98_11e8_bbbb_720001e2c210row0_col8\" class=\"data row0 col8\" >144174</td> \n",
       "        <td id=\"T_86c51fd8_3e98_11e8_bbbb_720001e2c210row0_col9\" class=\"data row0 col9\" >103</td> \n",
       "    </tr>    <tr> \n",
       "        <th id=\"T_86c51fd8_3e98_11e8_bbbb_720001e2c210level0_row1\" class=\"row_heading level0 row1\" >1</th> \n",
       "        <td id=\"T_86c51fd8_3e98_11e8_bbbb_720001e2c210row1_col0\" class=\"data row1 col0\" >13699</td> \n",
       "        <td id=\"T_86c51fd8_3e98_11e8_bbbb_720001e2c210row1_col1\" class=\"data row1 col1\" >1595</td> \n",
       "        <td id=\"T_86c51fd8_3e98_11e8_bbbb_720001e2c210row1_col2\" class=\"data row1 col2\" >7368</td> \n",
       "        <td id=\"T_86c51fd8_3e98_11e8_bbbb_720001e2c210row1_col3\" class=\"data row1 col3\" >7926</td> \n",
       "        <td id=\"T_86c51fd8_3e98_11e8_bbbb_720001e2c210row1_col4\" class=\"data row1 col4\" >14845</td> \n",
       "        <td id=\"T_86c51fd8_3e98_11e8_bbbb_720001e2c210row1_col5\" class=\"data row1 col5\" >449</td> \n",
       "        <td id=\"T_86c51fd8_3e98_11e8_bbbb_720001e2c210row1_col6\" class=\"data row1 col6\" >7950</td> \n",
       "        <td id=\"T_86c51fd8_3e98_11e8_bbbb_720001e2c210row1_col7\" class=\"data row1 col7\" >7344</td> \n",
       "        <td id=\"T_86c51fd8_3e98_11e8_bbbb_720001e2c210row1_col8\" class=\"data row1 col8\" >13992</td> \n",
       "        <td id=\"T_86c51fd8_3e98_11e8_bbbb_720001e2c210row1_col9\" class=\"data row1 col9\" >1302</td> \n",
       "    </tr></tbody> \n",
       "</table> "
      ],
      "text/plain": [
       "<pandas.io.formats.style.Styler at 0x1a189a29b0>"
      ]
     },
     "execution_count": 19,
     "metadata": {},
     "output_type": "execute_result"
    }
   ],
   "source": [
    "#Crosstab\n",
    "# Since technically a crosstab between all 6 classes is impossible to vizualize, lets take a \n",
    "# look at toxic with other tags\n",
    "main_col=\"toxic\"\n",
    "corr_mats=[]\n",
    "for other_col in temp_df.columns[1:]:\n",
    "    confusion_matrix = pd.crosstab(temp_df[main_col], temp_df[other_col])\n",
    "    corr_mats.append(confusion_matrix)\n",
    "out = pd.concat(corr_mats,axis=1,keys=temp_df.columns[1:])\n",
    "\n",
    "#cell highlighting\n",
    "out = out.style.apply(highlight_min,axis=0)\n",
    "out"
   ]
  },
  {
   "cell_type": "code",
   "execution_count": 20,
   "metadata": {
    "collapsed": true
   },
   "outputs": [],
   "source": [
    "#https://stackoverflow.com/questions/20892799/using-pandas-calculate-cram%C3%A9rs-coefficient-matrix/39266194\n",
    "def cramers_corrected_stat(confusion_matrix):\n",
    "    \"\"\" calculate Cramers V statistic for categorial-categorial association.\n",
    "        uses correction from Bergsma and Wicher, \n",
    "        Journal of the Korean Statistical Society 42 (2013): 323-328\n",
    "    \"\"\"\n",
    "    chi2 = ss.chi2_contingency(confusion_matrix)[0]\n",
    "    n = confusion_matrix.sum().sum()\n",
    "    phi2 = chi2/n\n",
    "    r,k = confusion_matrix.shape\n",
    "    phi2corr = max(0, phi2 - ((k-1)*(r-1))/(n-1))    \n",
    "    rcorr = r - ((r-1)**2)/(n-1)\n",
    "    kcorr = k - ((k-1)**2)/(n-1)\n",
    "    return np.sqrt(phi2corr / min( (kcorr-1), (rcorr-1)))"
   ]
  },
  {
   "cell_type": "code",
   "execution_count": 21,
   "metadata": {},
   "outputs": [
    {
     "name": "stdout",
     "output_type": "stream",
     "text": [
      "Confusion matrix between toxic and severe toxic:\n",
      "severe_toxic       0     1\n",
      "toxic                     \n",
      "0             144277     0\n",
      "1              13699  1595\n",
      "The correlation between Toxic and Severe toxic using Cramer's stat= 0.308502905405\n"
     ]
    }
   ],
   "source": [
    "#Checking for Toxic and Severe toxic for now\n",
    "import pandas as pd\n",
    "col1=\"toxic\"\n",
    "col2=\"severe_toxic\"\n",
    "confusion_matrix = pd.crosstab(temp_df[col1], temp_df[col2])\n",
    "print(\"Confusion matrix between toxic and severe toxic:\")\n",
    "print(confusion_matrix)\n",
    "new_corr=cramers_corrected_stat(confusion_matrix)\n",
    "print(\"The correlation between Toxic and Severe toxic using Cramer's stat=\",new_corr)"
   ]
  },
  {
   "cell_type": "code",
   "execution_count": 23,
   "metadata": {},
   "outputs": [
    {
     "name": "stdout",
     "output_type": "stream",
     "text": [
      "toxic:\n",
      "Hi \n",
      "\n",
      "Im a fucking bitch.\n",
      "\n",
      "50.180.208.181\n"
     ]
    }
   ],
   "source": [
    "print(\"toxic:\")\n",
    "print(train[train.severe_toxic==1].iloc[3,1])\n",
    "#print(train[train.severe_toxic==1].iloc[5,1])"
   ]
  },
  {
   "cell_type": "code",
   "execution_count": 24,
   "metadata": {},
   "outputs": [
    {
     "name": "stdout",
     "output_type": "stream",
     "text": [
      "severe_toxic:\n",
      "What a motherfucking piece of crap those fuckheads for blocking us!\n"
     ]
    }
   ],
   "source": [
    "print(\"severe_toxic:\")\n",
    "print(train[train.severe_toxic==1].iloc[4,1])\n",
    "#print(train[train.severe_toxic==1].iloc[4,1])"
   ]
  },
  {
   "cell_type": "code",
   "execution_count": 25,
   "metadata": {},
   "outputs": [
    {
     "name": "stdout",
     "output_type": "stream",
     "text": [
      "Threat:\n",
      "I think that your a Fagget get a oife and burn in Hell I hate you 'm sorry we cant have any more sex i'm running out of conndoms\n"
     ]
    }
   ],
   "source": [
    "print(\"Threat:\")\n",
    "print(train[train.threat==1].iloc[1,1])\n",
    "#print(train[train.threat==1].iloc[2,1])"
   ]
  },
  {
   "cell_type": "code",
   "execution_count": 26,
   "metadata": {},
   "outputs": [
    {
     "name": "stdout",
     "output_type": "stream",
     "text": [
      "Obscene:\n",
      "You are gay or antisemmitian? \n",
      "\n",
      "Archangel WHite Tiger\n",
      "\n",
      "Meow! Greetingshhh!\n",
      "\n",
      "Uh, there are two ways, why you do erased my comment about WW2, that holocaust was brutally slaying of Jews and not gays/Gypsys/Slavs/anyone...\n",
      "\n",
      "1 - If you are anti-semitian, than shave your head bald and go to the skinhead meetings!\n",
      "\n",
      "2 - If you doubt words of the Bible, that homosexuality is a deadly sin, make a pentagram tatoo on your forehead go to the satanistic masses with your gay pals!\n",
      "\n",
      "3 - First and last warning, you fucking gay - I won't appreciate if any more nazi shwain would write in my page! I don't wish to talk to you anymore!\n",
      "\n",
      "Beware of the Dark Side!\n"
     ]
    }
   ],
   "source": [
    "print(\"Obscene:\")\n",
    "print(train[train.obscene==1].iloc[1,1])\n",
    "#print(train[train.obscene==1].iloc[2,1])"
   ]
  },
  {
   "cell_type": "code",
   "execution_count": 27,
   "metadata": {},
   "outputs": [
    {
     "name": "stdout",
     "output_type": "stream",
     "text": [
      "identity_hate:\n",
      "u r a tw@ fuck off u gay boy.U r smelly.Fuck ur mum poopie\n"
     ]
    }
   ],
   "source": [
    "print(\"identity_hate:\")\n",
    "print(train[train.identity_hate==1].iloc[4,1])\n",
    "#print(train[train.identity_hate==1].iloc[4,1])"
   ]
  },
  {
   "cell_type": "code",
   "execution_count": 28,
   "metadata": {},
   "outputs": [
    {
     "name": "stdout",
     "output_type": "stream",
     "text": [
      "ls: ../input/imagesforkernal/: No such file or directory\r\n"
     ]
    }
   ],
   "source": [
    "!ls ../input/imagesforkernal/\n",
    "stopword=set(STOPWORDS)"
   ]
  },
  {
   "cell_type": "code",
   "execution_count": 30,
   "metadata": {
    "collapsed": true
   },
   "outputs": [],
   "source": [
    "merge=pd.concat([train.iloc[:,0:2],test.iloc[:,0:2]])\n",
    "df=merge.reset_index(drop=True)"
   ]
  },
  {
   "cell_type": "code",
   "execution_count": 31,
   "metadata": {
    "collapsed": true
   },
   "outputs": [],
   "source": [
    " ## Indirect features\n",
    "\n",
    "#Sentense count in each comment:\n",
    "    #  '\\n' can be used to count the number of sentences in each comment\n",
    "df['count_sent']=df[\"comment_text\"].apply(lambda x: len(re.findall(\"\\n\",str(x)))+1)\n",
    "#Word count in each comment:\n",
    "df['count_word']=df[\"comment_text\"].apply(lambda x: len(str(x).split()))\n",
    "#Unique word count\n",
    "df['count_unique_word']=df[\"comment_text\"].apply(lambda x: len(set(str(x).split())))\n",
    "#Letter count\n",
    "df['count_letters']=df[\"comment_text\"].apply(lambda x: len(str(x)))\n",
    "#punctuation count\n",
    "df[\"count_punctuations\"] =df[\"comment_text\"].apply(lambda x: len([c for c in str(x) if c in string.punctuation]))\n",
    "#upper case words count\n",
    "df[\"count_words_upper\"] = df[\"comment_text\"].apply(lambda x: len([w for w in str(x).split() if w.isupper()]))\n",
    "#title case words count\n",
    "df[\"count_words_title\"] = df[\"comment_text\"].apply(lambda x: len([w for w in str(x).split() if w.istitle()]))\n",
    "#Number of stopwords\n",
    "df[\"count_stopwords\"] = df[\"comment_text\"].apply(lambda x: len([w for w in str(x).lower().split() if w in eng_stopwords]))\n",
    "#Average length of the words\n",
    "df[\"mean_word_len\"] = df[\"comment_text\"].apply(lambda x: np.mean([len(w) for w in str(x).split()]))"
   ]
  },
  {
   "cell_type": "code",
   "execution_count": 32,
   "metadata": {
    "collapsed": true
   },
   "outputs": [],
   "source": [
    "#derived features\n",
    "#Word count percent in each comment:\n",
    "df['word_unique_percent']=df['count_unique_word']*100/df['count_word']\n",
    "#derived features\n",
    "#Punct percent in each comment:\n",
    "df['punct_percent']=df['count_punctuations']*100/df['count_word']"
   ]
  },
  {
   "cell_type": "code",
   "execution_count": 33,
   "metadata": {
    "collapsed": true
   },
   "outputs": [],
   "source": [
    "#serperate train and test features\n",
    "train_feats=df.iloc[0:len(train),]\n",
    "test_feats=df.iloc[len(train):,]\n",
    "#join the tags\n",
    "train_tags=train.iloc[:,2:]\n",
    "train_feats=pd.concat([train_feats,train_tags],axis=1)"
   ]
  },
  {
   "cell_type": "code",
   "execution_count": 35,
   "metadata": {},
   "outputs": [
    {
     "data": {
      "image/png": "[encoded data removed]",
      "text/plain": [
       "<matplotlib.figure.Figure at 0x1a188f9f98>"
      ]
     },
     "metadata": {},
     "output_type": "display_data"
    }
   ],
   "source": [
    "train_feats['count_sent'].loc[train_feats['count_sent']>10] = 10 \n",
    "plt.figure(figsize=(12,6))\n",
    "## sentenses\n",
    "plt.subplot(121)\n",
    "plt.suptitle(\"Toxic by length\",fontsize=20)\n",
    "sns.violinplot(y='count_sent',x='clean', data=train_feats,split=True)\n",
    "plt.xlabel('Clean?', fontsize=12)\n",
    "plt.ylabel('# of sentences', fontsize=12)\n",
    "plt.title(\"Number of sentences in each comment\", fontsize=15)\n",
    "# words\n",
    "train_feats['count_word'].loc[train_feats['count_word']>200] = 200\n",
    "plt.subplot(122)\n",
    "sns.violinplot(y='count_word',x='clean', data=train_feats,split=True,inner=\"quart\")\n",
    "plt.xlabel('Clean?', fontsize=12)\n",
    "plt.ylabel('# of words', fontsize=12)\n",
    "plt.title(\"Number of words in each comment\", fontsize=15)\n",
    "\n",
    "plt.show()"
   ]
  },
  {
   "cell_type": "code",
   "execution_count": null,
   "metadata": {
    "collapsed": true
   },
   "outputs": [],
   "source": []
  }
 ],
 "metadata": {
  "kernelspec": {
   "display_name": "Python 3",
   "language": "python",
   "name": "python3"
  },
  "language_info": {
   "codemirror_mode": {
    "name": "ipython",
    "version": 3
   },
   "file_extension": ".py",
   "mimetype": "text/x-python",
   "name": "python",
   "nbconvert_exporter": "python",
   "pygments_lexer": "ipython3",
   "version": "3.5.4"
  }
 },
 "nbformat": 4,
 "nbformat_minor": 2
}
